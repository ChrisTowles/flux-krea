{
 "cells": [
  {
   "cell_type": "code",
   "execution_count": null,
   "id": "653b9ecd",
   "metadata": {},
   "outputs": [],
   "source": [
    "import os\n",
    "import torch\n",
    "from src.flux.util import load_ae, load_clip, load_t5, load_flow_model\n",
    "from src.flux.pipeline import Sampler\n",
    "\n",
    "device = \"cuda\"\n",
    "model = load_flow_model(\"flux-krea-dev\", device=\"cpu\")\n",
    "ae = load_ae(\"flux-krea-dev\")\n",
    "clip = load_clip()\n",
    "t5 = load_t5()\n",
    "\n",
    "ae = ae.to(device=device, dtype=torch.bfloat16)\n",
    "clip = clip.to(device=device, dtype=torch.bfloat16)\n",
    "t5 = t5.to(device=device, dtype=torch.bfloat16)\n",
    "model = model.to(device, dtype=torch.bfloat16)"
   ]
  },
  {
   "cell_type": "code",
   "execution_count": null,
   "id": "6905ce9b",
   "metadata": {},
   "outputs": [],
   "source": [
    "sampler = Sampler(\n",
    "    model=model,\n",
    "    ae=ae,\n",
    "    clip=clip,\n",
    "    t5=t5,\n",
    "    device=device,\n",
    "    dtype=torch.bfloat16,\n",
    ")"
   ]
  },
  {
   "cell_type": "code",
   "execution_count": null,
   "id": "7508f5d3",
   "metadata": {},
   "outputs": [],
   "source": [
    "image = sampler(\n",
    "    prompt=\"a cute cat\",\n",
    "    width=1024,\n",
    "    height=1024,\n",
    "    guidance=4.5,\n",
    "    num_steps=28,\n",
    "    seed=42,\n",
    ")\n",
    "\n",
    "# enjoy a cute cat\n",
    "image"
   ]
  },
  {
   "cell_type": "code",
   "execution_count": null,
   "id": "58d17741",
   "metadata": {},
   "outputs": [],
   "source": []
  }
 ],
 "metadata": {
  "kernelspec": {
   "display_name": ".venv",
   "language": "python",
   "name": "python3"
  },
  "language_info": {
   "codemirror_mode": {
    "name": "ipython",
    "version": 3
   },
   "file_extension": ".py",
   "mimetype": "text/x-python",
   "name": "python",
   "nbconvert_exporter": "python",
   "pygments_lexer": "ipython3",
   "version": "3.12.3"
  }
 },
 "nbformat": 4,
 "nbformat_minor": 5
}
